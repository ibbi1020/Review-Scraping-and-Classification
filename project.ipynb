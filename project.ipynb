{
 "cells": [
  {
   "cell_type": "code",
   "execution_count": 1,
   "id": "471bd61e-2563-4add-b00d-f3507fea3eb2",
   "metadata": {},
   "outputs": [
    {
     "name": "stdout",
     "output_type": "stream",
     "text": [
      "Collecting anthropic\n",
      "  Using cached anthropic-0.40.0-py3-none-any.whl.metadata (23 kB)\n",
      "Requirement already satisfied: anyio<5,>=3.5.0 in /opt/homebrew/anaconda3/lib/python3.12/site-packages (from anthropic) (4.2.0)\n",
      "Requirement already satisfied: distro<2,>=1.7.0 in /opt/homebrew/anaconda3/lib/python3.12/site-packages (from anthropic) (1.9.0)\n",
      "Requirement already satisfied: httpx<1,>=0.23.0 in /opt/homebrew/anaconda3/lib/python3.12/site-packages (from anthropic) (0.26.0)\n",
      "Collecting jiter<1,>=0.4.0 (from anthropic)\n",
      "  Downloading jiter-0.8.0-cp312-cp312-macosx_11_0_arm64.whl.metadata (5.2 kB)\n",
      "Requirement already satisfied: pydantic<3,>=1.9.0 in /opt/homebrew/anaconda3/lib/python3.12/site-packages (from anthropic) (2.5.3)\n",
      "Requirement already satisfied: sniffio in /opt/homebrew/anaconda3/lib/python3.12/site-packages (from anthropic) (1.3.0)\n",
      "Requirement already satisfied: typing-extensions<5,>=4.7 in /opt/homebrew/anaconda3/lib/python3.12/site-packages (from anthropic) (4.11.0)\n",
      "Requirement already satisfied: idna>=2.8 in /opt/homebrew/anaconda3/lib/python3.12/site-packages (from anyio<5,>=3.5.0->anthropic) (3.7)\n",
      "Requirement already satisfied: certifi in /opt/homebrew/anaconda3/lib/python3.12/site-packages (from httpx<1,>=0.23.0->anthropic) (2024.8.30)\n",
      "Requirement already satisfied: httpcore==1.* in /opt/homebrew/anaconda3/lib/python3.12/site-packages (from httpx<1,>=0.23.0->anthropic) (1.0.2)\n",
      "Requirement already satisfied: h11<0.15,>=0.13 in /opt/homebrew/anaconda3/lib/python3.12/site-packages (from httpcore==1.*->httpx<1,>=0.23.0->anthropic) (0.14.0)\n",
      "Requirement already satisfied: annotated-types>=0.4.0 in /opt/homebrew/anaconda3/lib/python3.12/site-packages (from pydantic<3,>=1.9.0->anthropic) (0.6.0)\n",
      "Requirement already satisfied: pydantic-core==2.14.6 in /opt/homebrew/anaconda3/lib/python3.12/site-packages (from pydantic<3,>=1.9.0->anthropic) (2.14.6)\n",
      "Using cached anthropic-0.40.0-py3-none-any.whl (199 kB)\n",
      "Downloading jiter-0.8.0-cp312-cp312-macosx_11_0_arm64.whl (309 kB)\n",
      "Installing collected packages: jiter, anthropic\n",
      "Successfully installed anthropic-0.40.0 jiter-0.8.0\n",
      "Note: you may need to restart the kernel to use updated packages.\n"
     ]
    }
   ],
   "source": [
    "import pandas as pd"
   ]
  },
  {
   "cell_type": "markdown",
   "id": "72a274e3-b987-4906-aaeb-f27549b12989",
   "metadata": {},
   "source": [
    "### Setup your own API key\n",
    "* Login & setup your API key from here (https://console.anthropic.com/settings/keys)\n",
    "* Paste your API key in the following inverted commas"
   ]
  },
  {
   "cell_type": "code",
   "execution_count": 7,
   "id": "de0716a7-5cb9-4d69-b058-02d92514c023",
   "metadata": {},
   "outputs": [],
   "source": [
    "import os\n",
    "# Set the environment variable within the notebook\n",
    "os.environ[\"ANTHROPIC_API_KEY\"] = \"\""
   ]
  },
  {
   "cell_type": "markdown",
   "id": "6932a01b-c699-44bb-bc1a-4021fb4c7423",
   "metadata": {},
   "source": [
    "***Following code is just a sample, your task is to encapsulate this code in a function with arguments of your choice so that function can be reused***"
   ]
  },
  {
   "cell_type": "markdown",
   "id": "4094679c-9f31-4b86-9e54-1fd6aaef5c14",
   "metadata": {},
   "source": [
    "#### Following link is for reference: https://docs.anthropic.com/en/docs/initial-setup#next-steps"
   ]
  },
  {
   "cell_type": "code",
   "execution_count": 20,
   "id": "a63d675d-8a9d-4e86-afb7-79fab3293908",
   "metadata": {},
   "outputs": [
    {
     "name": "stdout",
     "output_type": "stream",
     "text": [
      "[TextBlock(text=\"Tears of ancient earth,\\nMinerals dissolved in time,\\nRivers carry salt to sea -\\nNature's briny paradigm.\\n\\nEons pass, waves roll on,\\nEach drop holds stories untold,\\nOf rocks worn down to grains,\\nMaking waters brackish, bold.\", type='text')]\n"
     ]
    }
   ],
   "source": [
    "import anthropic\n",
    "\n",
    "client = anthropic.Anthropic()\n",
    "\n",
    "message = client.messages.create(\n",
    "    model=\"claude-3-5-sonnet-20241022\",\n",
    "    max_tokens=1000,\n",
    "    temperature=0,\n",
    "    system=\"You are a world-class poet. Respond only with short poems.\",\n",
    "    messages=[\n",
    "        {\n",
    "            \"role\": \"user\",\n",
    "            \"content\": [\n",
    "                {\n",
    "                    \"type\": \"text\",\n",
    "                    \"text\": \"Why is the ocean salty?\"\n",
    "                }\n",
    "            ]\n",
    "        }\n",
    "    ]\n",
    ")\n",
    "print(message.content)\n"
   ]
  },
  {
   "cell_type": "code",
   "execution_count": null,
   "id": "83650e80-fcd5-47c7-be5b-77ce16689823",
   "metadata": {},
   "outputs": [],
   "source": []
  }
 ],
 "metadata": {
  "kernelspec": {
   "display_name": "Python 3 (ipykernel)",
   "language": "python",
   "name": "python3"
  },
  "language_info": {
   "codemirror_mode": {
    "name": "ipython",
    "version": 3
   },
   "file_extension": ".py",
   "mimetype": "text/x-python",
   "name": "python",
   "nbconvert_exporter": "python",
   "pygments_lexer": "ipython3",
   "version": "3.12.4"
  }
 },
 "nbformat": 4,
 "nbformat_minor": 5
}
